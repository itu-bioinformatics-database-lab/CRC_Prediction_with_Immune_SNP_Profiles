{
 "cells": [
  {
   "cell_type": "code",
   "execution_count": 1,
   "id": "350876df",
   "metadata": {},
   "outputs": [],
   "source": [
    "import sys\n",
    "main_path = \"../..\"\n",
    "sys.path.append(main_path)\n",
    "\n",
    "import numpy as np\n",
    "import pandas as pd\n",
    "from impyute.imputation.cs import fast_knn\n",
    "import os\n",
    "import yaml\n",
    "import copy"
   ]
  },
  {
   "cell_type": "code",
   "execution_count": 2,
   "id": "d8ec4296",
   "metadata": {},
   "outputs": [],
   "source": [
    "data = pd.read_csv(f'{main_path}/data/raw/colon_cancer.txt', sep=\"\\t\", encoding = \"ISO-8859-1\")\n",
    "targets = np.ravel(data.iloc[:,0])\n",
    "targets = np.where(targets == 'kontrol', 0, 1)\n",
    "features = np.array(data.iloc[:,2:13])\n",
    "columns = data.columns[2:13]\n",
    "\n",
    "with open(f'{main_path}/config.yaml', 'r') as f:\n",
    "    config = yaml.safe_load(f)\n",
    "    \n",
    "decimal_forms = config['decimal']\n",
    "\n",
    "df_path = f\"{main_path}/data/processed/dataframes\"\n",
    "os.makedirs(df_path, exist_ok=True)"
   ]
  },
  {
   "cell_type": "markdown",
   "id": "78faf1c2",
   "metadata": {},
   "source": [
    "### Baseline Approach"
   ]
  },
  {
   "cell_type": "code",
   "execution_count": 3,
   "id": "8ac6c96e",
   "metadata": {},
   "outputs": [],
   "source": [
    "baseline_data = data[['mdm2', 'GAL3', 'TIM1', 'p16540', 'p16580']]\n",
    "one_hot_baseline = pd.get_dummies(baseline_data)\n",
    "one_hot_baseline.to_csv(f\"{df_path}/baseline_approach.csv\", index=False)\n",
    "pd.DataFrame(targets, columns=['target']).to_csv(f\"{df_path}/targets.csv\", index=False)"
   ]
  },
  {
   "cell_type": "markdown",
   "id": "c8446ab9",
   "metadata": {},
   "source": [
    "### One-Hot Encoding (on categorical data) -> Data Imputation"
   ]
  },
  {
   "cell_type": "code",
   "execution_count": 4,
   "id": "39aa89fb",
   "metadata": {
    "scrolled": false
   },
   "outputs": [],
   "source": [
    "ohe = pd.get_dummies(data.iloc[:,2:13])\n",
    "\n",
    "for clm in columns:\n",
    "    ohe.loc[data[clm].isnull(), ohe.columns.str.startswith(\"{}_\".format(clm))] = np.nan"
   ]
  },
  {
   "cell_type": "code",
   "execution_count": 5,
   "id": "96929684",
   "metadata": {},
   "outputs": [],
   "source": [
    "ohe_di = fast_knn(ohe.values, k=30)\n",
    "\n",
    "ohe_di_df = pd.DataFrame(ohe_di, columns=ohe.columns)\n",
    "ohe_di_df.to_csv(f\"{df_path}/ohe_di.csv\", index=False)"
   ]
  },
  {
   "cell_type": "markdown",
   "id": "a2501bc4",
   "metadata": {},
   "source": [
    "### One-Hot Encoding (on categorical data) -> Data Imputation -> Float to Int"
   ]
  },
  {
   "cell_type": "code",
   "execution_count": 6,
   "id": "cf6accfc",
   "metadata": {
    "scrolled": true
   },
   "outputs": [],
   "source": [
    "sys.setrecursionlimit(100000) #Increase the recursion limit of the OS\n",
    "# K-nn implementation gives us float values and we convert it to nearest integer\n",
    "ohe_di_fi = np.round(ohe_di).astype('int')\n",
    "ohe_di_fi_df = pd.DataFrame(ohe_di_fi, columns=ohe.columns)\n",
    "ohe_di_fi_df.to_csv(f\"{df_path}/ohe_di_fi.csv\", index=False)"
   ]
  },
  {
   "cell_type": "markdown",
   "id": "cc2091d9",
   "metadata": {},
   "source": [
    "### Custom Data Transformation (CDT) -> Data Imputation"
   ]
  },
  {
   "cell_type": "code",
   "execution_count": 7,
   "id": "d5bfe491",
   "metadata": {
    "scrolled": true
   },
   "outputs": [],
   "source": [
    "cdt = pd.DataFrame(features)\n",
    "cdt.columns = columns\n",
    "for col in cdt.columns:\n",
    "    cdt[col] = cdt[col].map(decimal_forms)"
   ]
  },
  {
   "cell_type": "code",
   "execution_count": 8,
   "id": "e28fd81b",
   "metadata": {},
   "outputs": [],
   "source": [
    "sys.setrecursionlimit(100000) #Increase the recursion limit of the OS\n",
    "cdt_di = fast_knn(cdt.values, k=30)\n",
    "\n",
    "cdt_di_df = pd.DataFrame(cdt_di, columns=columns)\n",
    "cdt_di_df.to_csv(f\"{df_path}/cdt_di.csv\", index=False)"
   ]
  },
  {
   "cell_type": "markdown",
   "id": "16730e58",
   "metadata": {},
   "source": [
    "### Custom Data Transformation -> Data Imputation -> Float to Int"
   ]
  },
  {
   "cell_type": "code",
   "execution_count": 9,
   "id": "c43d1727",
   "metadata": {},
   "outputs": [],
   "source": [
    "cdt_di_fi = np.round(cdt_di).astype('int')\n",
    "cdt_di_fi_df = pd.DataFrame(cdt_di_fi, columns=columns)\n",
    "cdt_di_fi_df.to_csv(f\"{df_path}/cdt_di_fi.csv\", index=False)"
   ]
  },
  {
   "cell_type": "markdown",
   "id": "944dc2bb",
   "metadata": {},
   "source": [
    "### Custom Data Transformation -> Data Imputation -> One Hot Encoding"
   ]
  },
  {
   "cell_type": "code",
   "execution_count": 10,
   "id": "ee857c5e",
   "metadata": {},
   "outputs": [],
   "source": [
    "cdt_di_ohe_df = pd.get_dummies(cdt_di_df, sparse=True, columns=columns)\n",
    "cdt_di_ohe_df.to_csv(f\"{df_path}/cdt_di_ohe.csv\", index=False)"
   ]
  },
  {
   "cell_type": "markdown",
   "id": "99a10d28",
   "metadata": {},
   "source": [
    "### Custom Data Transformation (CDT) -> Data Imputation -> Float to Int -> One-Hot Encoding"
   ]
  },
  {
   "cell_type": "code",
   "execution_count": 11,
   "id": "9c0c7c28",
   "metadata": {
    "scrolled": true
   },
   "outputs": [],
   "source": [
    "cdt_di_fi_ohe_df = pd.get_dummies(cdt_di_fi_df.astype('str'), sparse=True, columns=columns)\n",
    "cdt_di_fi_ohe_df.to_csv(f\"{df_path}/cdt_di_fi_ohe.csv\", index=False)"
   ]
  },
  {
   "cell_type": "markdown",
   "id": "d8a6c72e",
   "metadata": {},
   "source": [
    "# Sources:\n",
    "\n",
    "- https://towardsdatascience.com/the-use-of-knn-for-missing-values-cf33d935c637"
   ]
  }
 ],
 "metadata": {
  "kernelspec": {
   "display_name": "Python 3.8.13 ('coloncancer')",
   "language": "python",
   "name": "python3"
  },
  "language_info": {
   "codemirror_mode": {
    "name": "ipython",
    "version": 3
   },
   "file_extension": ".py",
   "mimetype": "text/x-python",
   "name": "python",
   "nbconvert_exporter": "python",
   "pygments_lexer": "ipython3",
   "version": "3.8.13"
  },
  "vscode": {
   "interpreter": {
    "hash": "17d88d7bb09b9e5610217549f5ba06556c09b361bd5cd1a1140320cbcbaad1ff"
   }
  }
 },
 "nbformat": 4,
 "nbformat_minor": 5
}
