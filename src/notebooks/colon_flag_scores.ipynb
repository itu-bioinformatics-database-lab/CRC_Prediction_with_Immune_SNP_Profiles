{
 "cells": [
  {
   "cell_type": "code",
   "execution_count": 1,
   "id": "fb9957f4",
   "metadata": {},
   "outputs": [],
   "source": [
    "import sys\n",
    "main_path = \"../..\"\n",
    "sys.path.append(main_path)\n",
    "\n",
    "# importing modules\n",
    "import os\n",
    "import numpy as np\n",
    "import pandas as pd\n",
    "from sklearn.preprocessing import StandardScaler\n",
    "from sklearn.pipeline import Pipeline\n",
    "from src.scripts.model_and_evaluation import ModelAndEvaluation\n",
    "import pickle\n",
    "\n",
    "import warnings\n",
    "warnings.simplefilter('ignore')\n",
    "\n",
    "# ColonFlag model\n",
    "from sklearn.ensemble import AdaBoostClassifier\n",
    "from sklearn.tree import DecisionTreeClassifier"
   ]
  },
  {
   "cell_type": "code",
   "execution_count": 2,
   "id": "7872631c",
   "metadata": {},
   "outputs": [],
   "source": [
    "model_and_evaluation = ModelAndEvaluation()"
   ]
  },
  {
   "cell_type": "code",
   "execution_count": 3,
   "id": "9d77f4cc",
   "metadata": {},
   "outputs": [],
   "source": [
    "pipe_colonflag = Pipeline([['sc', StandardScaler()], ['clf', AdaBoostClassifier(\n",
    "                 base_estimator = DecisionTreeClassifier(), n_estimators=1000, random_state=0)]])"
   ]
  },
  {
   "cell_type": "code",
   "execution_count": 4,
   "id": "7aa6dad3",
   "metadata": {},
   "outputs": [],
   "source": [
    "df_path = f\"{main_path}/data/processed/dataframes\"\n",
    "targets = pd.read_csv(f\"{df_path}/targets.csv\").values.ravel()"
   ]
  },
  {
   "cell_type": "markdown",
   "id": "b7703c11",
   "metadata": {},
   "source": [
    "### OHE -> DI"
   ]
  },
  {
   "cell_type": "code",
   "execution_count": 13,
   "id": "b597802b",
   "metadata": {},
   "outputs": [],
   "source": [
    "ohe_di = pd.read_csv(f\"{df_path}/ohe_di.csv\")\n",
    "cf_metrics_score_ohe_di = model_and_evaluation.cross_val(pipe_colonflag, ohe_di.values, targets, grid_search=False)"
   ]
  },
  {
   "cell_type": "markdown",
   "id": "92dffd2f",
   "metadata": {},
   "source": [
    "### OHE -> DI -> FI"
   ]
  },
  {
   "cell_type": "code",
   "execution_count": 5,
   "id": "563a52ad",
   "metadata": {},
   "outputs": [],
   "source": [
    "ohe_di_fi = pd.read_csv(f\"{df_path}/ohe_di_fi.csv\")\n",
    "cf_metrics_score_ohe_di_fi = model_and_evaluation.cross_val(pipe_colonflag, ohe_di_fi.values, targets, grid_search=False)"
   ]
  },
  {
   "cell_type": "code",
   "execution_count": 14,
   "id": "e482277f",
   "metadata": {},
   "outputs": [],
   "source": [
    "from sklearn.model_selection import cross_val_score\n",
    "result = cross_val_score(estimator=pipe_colonflag, X=ohe_di_fi.values, y=targets, cv=10, scoring='f1_micro')"
   ]
  },
  {
   "cell_type": "code",
   "execution_count": 15,
   "id": "20de6ab5",
   "metadata": {},
   "outputs": [
    {
     "data": {
      "text/plain": [
       "0.85"
      ]
     },
     "execution_count": 15,
     "metadata": {},
     "output_type": "execute_result"
    }
   ],
   "source": [
    "result.mean()"
   ]
  },
  {
   "cell_type": "markdown",
   "id": "63373b93",
   "metadata": {},
   "source": [
    "### CDT -> FI"
   ]
  },
  {
   "cell_type": "code",
   "execution_count": 7,
   "id": "26b5c620",
   "metadata": {},
   "outputs": [],
   "source": [
    "cdt_di = pd.read_csv(f\"{df_path}/cdt_di.csv\")\n",
    "cf_metrics_score_cdt_di = model_and_evaluation.cross_val(pipe_colonflag, cdt_di.values, targets, grid_search=False)"
   ]
  },
  {
   "cell_type": "markdown",
   "id": "afc259de",
   "metadata": {},
   "source": [
    "### CDT -> DI -> FI"
   ]
  },
  {
   "cell_type": "code",
   "execution_count": 8,
   "id": "cbff3405",
   "metadata": {},
   "outputs": [],
   "source": [
    "cdt_di_fi = pd.read_csv(f\"{df_path}/cdt_di_fi.csv\")\n",
    "cf_metrics_score_cdt_di_fi = model_and_evaluation.cross_val(pipe_colonflag, cdt_di_fi.values, targets, grid_search=False)"
   ]
  },
  {
   "cell_type": "markdown",
   "id": "0422ee3e",
   "metadata": {},
   "source": [
    "### CDT -> DI -> OHE"
   ]
  },
  {
   "cell_type": "code",
   "execution_count": 9,
   "id": "b506c14d",
   "metadata": {},
   "outputs": [],
   "source": [
    "cdt_di_ohe = pd.read_csv(f\"{df_path}/cdt_di_ohe.csv\")\n",
    "cf_metrics_score_cdt_di_ohe = model_and_evaluation.cross_val(pipe_colonflag, cdt_di_ohe.values, targets, grid_search=False)"
   ]
  },
  {
   "cell_type": "markdown",
   "id": "02837de1",
   "metadata": {},
   "source": [
    "### CDT -> DI -> FI -> OHE"
   ]
  },
  {
   "cell_type": "code",
   "execution_count": 10,
   "id": "bc37fe3e",
   "metadata": {},
   "outputs": [],
   "source": [
    "cdt_di_fi_ohe = pd.read_csv(f\"{df_path}/cdt_di_fi_ohe.csv\")\n",
    "cf_metrics_score_cdt_di_fi_ohe = model_and_evaluation.cross_val(pipe_colonflag, cdt_di_fi_ohe.values, targets, grid_search=False)"
   ]
  },
  {
   "cell_type": "markdown",
   "id": "70e40314",
   "metadata": {},
   "source": [
    "### Saving Results"
   ]
  },
  {
   "cell_type": "code",
   "execution_count": 11,
   "id": "997e0aa0",
   "metadata": {},
   "outputs": [],
   "source": [
    "cf_scores = {'ohe_di': cf_metrics_score_ohe_di, 'ohe_di_fi': cf_metrics_score_ohe_di_fi,\n",
    "         'cdt_di': cf_metrics_score_cdt_di, 'cdt_di_fi': cf_metrics_score_cdt_di_fi, 'cdt_di_ohe': cf_metrics_score_cdt_di_ohe,\n",
    "         'cdt_di_fi_ohe': cf_metrics_score_cdt_di_fi_ohe}\n",
    "\n",
    "os.makedirs(f\"{main_path}/data/processed/model_scores\", exist_ok=True)\n",
    "with open(f\"{main_path}/data/processed/model_scores/colonflag_scores.pkl\", 'wb') as f:\n",
    "    pickle.dump(cf_scores, f)"
   ]
  }
 ],
 "metadata": {
  "kernelspec": {
   "display_name": "Python 3.8.13 ('coloncancer')",
   "language": "python",
   "name": "python3"
  },
  "language_info": {
   "codemirror_mode": {
    "name": "ipython",
    "version": 3
   },
   "file_extension": ".py",
   "mimetype": "text/x-python",
   "name": "python",
   "nbconvert_exporter": "python",
   "pygments_lexer": "ipython3",
   "version": "3.8.13"
  },
  "vscode": {
   "interpreter": {
    "hash": "17d88d7bb09b9e5610217549f5ba06556c09b361bd5cd1a1140320cbcbaad1ff"
   }
  }
 },
 "nbformat": 4,
 "nbformat_minor": 5
}
