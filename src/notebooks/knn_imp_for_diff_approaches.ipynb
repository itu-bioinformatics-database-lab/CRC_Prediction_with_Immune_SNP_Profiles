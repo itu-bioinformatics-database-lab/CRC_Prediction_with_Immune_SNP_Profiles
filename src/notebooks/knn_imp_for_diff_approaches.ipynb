{
 "cells": [
  {
   "cell_type": "markdown",
   "metadata": {},
   "source": [
    "# SNP Colon Cancer Data-Set Applying Different Approaches by K-NN Based Imputation\n",
    "\n",
    "In this Ipython file we applied different approaches to determine the which approach is more suitable for our analysis. "
   ]
  },
  {
   "cell_type": "code",
   "execution_count": 1,
   "metadata": {},
   "outputs": [],
   "source": [
    "import sys\n",
    "main_path = \"../..\"\n",
    "sys.path.append(main_path)\n",
    "\n",
    "# importing modules\n",
    "import os\n",
    "import yaml\n",
    "import pickle\n",
    "import numpy as np\n",
    "import pandas as pd\n",
    "from src.scripts.model_and_evaluation import ModelAndEvaluation\n",
    "import warnings\n",
    "\n",
    "warnings.simplefilter('ignore')"
   ]
  },
  {
   "cell_type": "code",
   "execution_count": 2,
   "metadata": {},
   "outputs": [],
   "source": [
    "model_and_evaluation = ModelAndEvaluation()"
   ]
  },
  {
   "cell_type": "code",
   "execution_count": 3,
   "metadata": {},
   "outputs": [],
   "source": [
    "df_path = f\"{main_path}/data/processed/dataframes\"\n",
    "targets = pd.read_csv(f\"{df_path}/targets.csv\").values.ravel()"
   ]
  },
  {
   "cell_type": "markdown",
   "metadata": {},
   "source": [
    "### Baseline"
   ]
  },
  {
   "cell_type": "code",
   "execution_count": 4,
   "metadata": {},
   "outputs": [],
   "source": [
    "baseline_df = pd.read_csv(f\"{df_path}/baseline_approach.csv\")\n",
    "metrics_score_baseline = model_and_evaluation.return_metric_results(baseline_df.values, targets)"
   ]
  },
  {
   "cell_type": "markdown",
   "metadata": {},
   "source": [
    "### OHE -> DI"
   ]
  },
  {
   "cell_type": "code",
   "execution_count": 5,
   "metadata": {},
   "outputs": [],
   "source": [
    "ohe_di = pd.read_csv(f\"{df_path}/ohe_di.csv\")\n",
    "metrics_score_ohe_di = model_and_evaluation.return_metric_results(ohe_di.values, targets)"
   ]
  },
  {
   "cell_type": "markdown",
   "metadata": {},
   "source": [
    "### OHE -> DI -> FI"
   ]
  },
  {
   "cell_type": "code",
   "execution_count": 6,
   "metadata": {},
   "outputs": [],
   "source": [
    "ohe_di_fi = pd.read_csv(f\"{df_path}/ohe_di_fi.csv\")\n",
    "metrics_score_ohe_di_fi = model_and_evaluation.return_metric_results(ohe_di_fi.values, targets)"
   ]
  },
  {
   "cell_type": "markdown",
   "metadata": {},
   "source": [
    "### CDT -> FI"
   ]
  },
  {
   "cell_type": "code",
   "execution_count": 7,
   "metadata": {},
   "outputs": [],
   "source": [
    "cdt_di = pd.read_csv(f\"{df_path}/cdt_di.csv\")\n",
    "metrics_score_cdt_di = model_and_evaluation.return_metric_results(cdt_di.values, targets)"
   ]
  },
  {
   "cell_type": "markdown",
   "metadata": {},
   "source": [
    "### CDT -> DI -> FI"
   ]
  },
  {
   "cell_type": "code",
   "execution_count": 8,
   "metadata": {},
   "outputs": [],
   "source": [
    "cdt_di_fi = pd.read_csv(f\"{df_path}/cdt_di_fi.csv\")\n",
    "metrics_score_cdt_di_fi = model_and_evaluation.return_metric_results(cdt_di_fi.values, targets)"
   ]
  },
  {
   "cell_type": "markdown",
   "metadata": {},
   "source": [
    "### CDT -> DI -> OHE"
   ]
  },
  {
   "cell_type": "code",
   "execution_count": 9,
   "metadata": {},
   "outputs": [],
   "source": [
    "cdt_di_ohe = pd.read_csv(f\"{df_path}/cdt_di_ohe.csv\")\n",
    "metrics_score_cdt_di_ohe = model_and_evaluation.return_metric_results(cdt_di_ohe.values, targets)"
   ]
  },
  {
   "cell_type": "markdown",
   "metadata": {},
   "source": [
    "### CDT -> DI -> FI -> OHE"
   ]
  },
  {
   "cell_type": "code",
   "execution_count": 10,
   "metadata": {},
   "outputs": [],
   "source": [
    "cdt_di_fi_ohe = pd.read_csv(f\"{df_path}/cdt_di_fi_ohe.csv\")\n",
    "metrics_score_cdt_di_fi_ohe = model_and_evaluation.return_metric_results(cdt_di_fi_ohe.values, targets)"
   ]
  },
  {
   "cell_type": "markdown",
   "metadata": {},
   "source": [
    "### Saving Results"
   ]
  },
  {
   "cell_type": "code",
   "execution_count": 11,
   "metadata": {},
   "outputs": [],
   "source": [
    "scores = {'baseline': metrics_score_baseline, 'ohe_di': metrics_score_ohe_di, 'ohe_di_fi': metrics_score_ohe_di_fi,\n",
    "         'cdt_di': metrics_score_cdt_di, 'cdt_di_fi': metrics_score_cdt_di_fi, 'cdt_di_ohe': metrics_score_cdt_di_ohe,\n",
    "         'cdt_di_fi_ohe': metrics_score_cdt_di_fi_ohe}\n",
    "\n",
    "os.makedirs(f\"{main_path}/data/processed/model_scores\", exist_ok=True)\n",
    "with open(f\"{main_path}/data/processed/model_scores/best_scores.pkl\", 'wb') as f:\n",
    "    pickle.dump(scores, f)"
   ]
  }
 ],
 "metadata": {
  "kernelspec": {
   "display_name": "Python 3.8.13 ('coloncancer')",
   "language": "python",
   "name": "python3"
  },
  "language_info": {
   "codemirror_mode": {
    "name": "ipython",
    "version": 3
   },
   "file_extension": ".py",
   "mimetype": "text/x-python",
   "name": "python",
   "nbconvert_exporter": "python",
   "pygments_lexer": "ipython3",
   "version": "3.8.13"
  },
  "vscode": {
   "interpreter": {
    "hash": "17d88d7bb09b9e5610217549f5ba06556c09b361bd5cd1a1140320cbcbaad1ff"
   }
  }
 },
 "nbformat": 4,
 "nbformat_minor": 2
}
